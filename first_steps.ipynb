{
 "cells": [
  {
   "cell_type": "markdown",
   "metadata": {},
   "source": [
    "# Projet Fil Rouge\n",
    "### Nom, Prénom, Année"
   ]
  },
  {
   "cell_type": "markdown",
   "metadata": {},
   "source": [
    "## Data Cleaning"
   ]
  },
  {
   "cell_type": "code",
   "execution_count": 2,
   "metadata": {},
   "outputs": [],
   "source": [
    "# Ici, vous réaliserez le cleaning de votre jeu de données\n",
    "import pandas as pd\n",
    "import numpy as np"
   ]
  },
  {
   "cell_type": "code",
   "execution_count": 27,
   "metadata": {},
   "outputs": [
    {
     "data": {
      "text/html": [
       "<div>\n",
       "<style scoped>\n",
       "    .dataframe tbody tr th:only-of-type {\n",
       "        vertical-align: middle;\n",
       "    }\n",
       "\n",
       "    .dataframe tbody tr th {\n",
       "        vertical-align: top;\n",
       "    }\n",
       "\n",
       "    .dataframe thead th {\n",
       "        text-align: right;\n",
       "    }\n",
       "</style>\n",
       "<table border=\"1\" class=\"dataframe\">\n",
       "  <thead>\n",
       "    <tr style=\"text-align: right;\">\n",
       "      <th></th>\n",
       "      <th>ID</th>\n",
       "      <th>Age</th>\n",
       "      <th>Gender</th>\n",
       "      <th>Occupation</th>\n",
       "      <th>Sleep Hours</th>\n",
       "      <th>Physical Activity (hrs/week)</th>\n",
       "      <th>Caffeine Intake (mg/day)</th>\n",
       "      <th>Alcohol Consumption (drinks/week)</th>\n",
       "      <th>Smoking</th>\n",
       "      <th>Family History of Anxiety</th>\n",
       "      <th>Stress Level (1-10)</th>\n",
       "      <th>Heart Rate (bpm during attack)</th>\n",
       "      <th>Breathing Rate (breaths/min)</th>\n",
       "      <th>Sweating Level (1-5)</th>\n",
       "      <th>Dizziness</th>\n",
       "      <th>Medication</th>\n",
       "      <th>Therapy Sessions (per month)</th>\n",
       "      <th>Recent Major Life Event</th>\n",
       "      <th>Diet Quality (1-10)</th>\n",
       "      <th>Severity of Anxiety Attack (1-10)</th>\n",
       "    </tr>\n",
       "  </thead>\n",
       "  <tbody>\n",
       "    <tr>\n",
       "      <th>0</th>\n",
       "      <td>1</td>\n",
       "      <td>56</td>\n",
       "      <td>Female</td>\n",
       "      <td>Other</td>\n",
       "      <td>9.6</td>\n",
       "      <td>8.3</td>\n",
       "      <td>175</td>\n",
       "      <td>6</td>\n",
       "      <td>No</td>\n",
       "      <td>No</td>\n",
       "      <td>4</td>\n",
       "      <td>145</td>\n",
       "      <td>33</td>\n",
       "      <td>3</td>\n",
       "      <td>No</td>\n",
       "      <td>No</td>\n",
       "      <td>4</td>\n",
       "      <td>Yes</td>\n",
       "      <td>9</td>\n",
       "      <td>10</td>\n",
       "    </tr>\n",
       "    <tr>\n",
       "      <th>1</th>\n",
       "      <td>2</td>\n",
       "      <td>46</td>\n",
       "      <td>Male</td>\n",
       "      <td>Teacher</td>\n",
       "      <td>6.4</td>\n",
       "      <td>7.3</td>\n",
       "      <td>97</td>\n",
       "      <td>6</td>\n",
       "      <td>No</td>\n",
       "      <td>No</td>\n",
       "      <td>3</td>\n",
       "      <td>143</td>\n",
       "      <td>18</td>\n",
       "      <td>5</td>\n",
       "      <td>Yes</td>\n",
       "      <td>No</td>\n",
       "      <td>0</td>\n",
       "      <td>No</td>\n",
       "      <td>9</td>\n",
       "      <td>8</td>\n",
       "    </tr>\n",
       "    <tr>\n",
       "      <th>2</th>\n",
       "      <td>3</td>\n",
       "      <td>32</td>\n",
       "      <td>Female</td>\n",
       "      <td>Doctor</td>\n",
       "      <td>6.9</td>\n",
       "      <td>1.0</td>\n",
       "      <td>467</td>\n",
       "      <td>14</td>\n",
       "      <td>No</td>\n",
       "      <td>No</td>\n",
       "      <td>2</td>\n",
       "      <td>60</td>\n",
       "      <td>34</td>\n",
       "      <td>1</td>\n",
       "      <td>No</td>\n",
       "      <td>No</td>\n",
       "      <td>7</td>\n",
       "      <td>Yes</td>\n",
       "      <td>10</td>\n",
       "      <td>5</td>\n",
       "    </tr>\n",
       "    <tr>\n",
       "      <th>3</th>\n",
       "      <td>4</td>\n",
       "      <td>60</td>\n",
       "      <td>Male</td>\n",
       "      <td>Doctor</td>\n",
       "      <td>9.2</td>\n",
       "      <td>3.7</td>\n",
       "      <td>471</td>\n",
       "      <td>16</td>\n",
       "      <td>No</td>\n",
       "      <td>Yes</td>\n",
       "      <td>6</td>\n",
       "      <td>94</td>\n",
       "      <td>19</td>\n",
       "      <td>1</td>\n",
       "      <td>No</td>\n",
       "      <td>Yes</td>\n",
       "      <td>4</td>\n",
       "      <td>Yes</td>\n",
       "      <td>5</td>\n",
       "      <td>8</td>\n",
       "    </tr>\n",
       "    <tr>\n",
       "      <th>4</th>\n",
       "      <td>5</td>\n",
       "      <td>25</td>\n",
       "      <td>Male</td>\n",
       "      <td>Student</td>\n",
       "      <td>9.2</td>\n",
       "      <td>2.5</td>\n",
       "      <td>364</td>\n",
       "      <td>2</td>\n",
       "      <td>No</td>\n",
       "      <td>Yes</td>\n",
       "      <td>7</td>\n",
       "      <td>152</td>\n",
       "      <td>15</td>\n",
       "      <td>4</td>\n",
       "      <td>No</td>\n",
       "      <td>Yes</td>\n",
       "      <td>0</td>\n",
       "      <td>No</td>\n",
       "      <td>1</td>\n",
       "      <td>1</td>\n",
       "    </tr>\n",
       "  </tbody>\n",
       "</table>\n",
       "</div>"
      ],
      "text/plain": [
       "   ID  Age  Gender Occupation  Sleep Hours  Physical Activity (hrs/week)  \\\n",
       "0   1   56  Female      Other          9.6                           8.3   \n",
       "1   2   46    Male    Teacher          6.4                           7.3   \n",
       "2   3   32  Female     Doctor          6.9                           1.0   \n",
       "3   4   60    Male     Doctor          9.2                           3.7   \n",
       "4   5   25    Male    Student          9.2                           2.5   \n",
       "\n",
       "   Caffeine Intake (mg/day)  Alcohol Consumption (drinks/week) Smoking  \\\n",
       "0                       175                                  6      No   \n",
       "1                        97                                  6      No   \n",
       "2                       467                                 14      No   \n",
       "3                       471                                 16      No   \n",
       "4                       364                                  2      No   \n",
       "\n",
       "  Family History of Anxiety  Stress Level (1-10)  \\\n",
       "0                        No                    4   \n",
       "1                        No                    3   \n",
       "2                        No                    2   \n",
       "3                       Yes                    6   \n",
       "4                       Yes                    7   \n",
       "\n",
       "   Heart Rate (bpm during attack)  Breathing Rate (breaths/min)  \\\n",
       "0                             145                            33   \n",
       "1                             143                            18   \n",
       "2                              60                            34   \n",
       "3                              94                            19   \n",
       "4                             152                            15   \n",
       "\n",
       "   Sweating Level (1-5) Dizziness Medication  Therapy Sessions (per month)  \\\n",
       "0                     3        No         No                             4   \n",
       "1                     5       Yes         No                             0   \n",
       "2                     1        No         No                             7   \n",
       "3                     1        No        Yes                             4   \n",
       "4                     4        No        Yes                             0   \n",
       "\n",
       "  Recent Major Life Event  Diet Quality (1-10)  \\\n",
       "0                     Yes                    9   \n",
       "1                      No                    9   \n",
       "2                     Yes                   10   \n",
       "3                     Yes                    5   \n",
       "4                      No                    1   \n",
       "\n",
       "   Severity of Anxiety Attack (1-10)  \n",
       "0                                 10  \n",
       "1                                  8  \n",
       "2                                  5  \n",
       "3                                  8  \n",
       "4                                  1  "
      ]
     },
     "execution_count": 27,
     "metadata": {},
     "output_type": "execute_result"
    }
   ],
   "source": [
    "df = pd.read_csv('./data/anxiety_attack_dataset.csv')\n",
    "df.head()"
   ]
  },
  {
   "cell_type": "code",
   "execution_count": 20,
   "metadata": {},
   "outputs": [
    {
     "data": {
      "text/plain": [
       "ID                                   False\n",
       "Age                                  False\n",
       "Gender                               False\n",
       "Occupation                           False\n",
       "Sleep Hours                          False\n",
       "Physical Activity (hrs/week)         False\n",
       "Caffeine Intake (mg/day)             False\n",
       "Alcohol Consumption (drinks/week)    False\n",
       "Smoking                              False\n",
       "Family History of Anxiety            False\n",
       "Stress Level (1-10)                  False\n",
       "Heart Rate (bpm during attack)       False\n",
       "Breathing Rate (breaths/min)         False\n",
       "Sweating Level (1-5)                 False\n",
       "Dizziness                            False\n",
       "Medication                           False\n",
       "Therapy Sessions (per month)         False\n",
       "Recent Major Life Event              False\n",
       "Diet Quality (1-10)                  False\n",
       "Severity of Anxiety Attack (1-10)    False\n",
       "dtype: bool"
      ]
     },
     "execution_count": 20,
     "metadata": {},
     "output_type": "execute_result"
    }
   ],
   "source": [
    "df.isna().any()"
   ]
  },
  {
   "cell_type": "code",
   "execution_count": 28,
   "metadata": {},
   "outputs": [
    {
     "name": "stdout",
     "output_type": "stream",
     "text": [
      "<class 'pandas.core.frame.DataFrame'>\n",
      "RangeIndex: 12000 entries, 0 to 11999\n",
      "Data columns (total 19 columns):\n",
      " #   Column                             Non-Null Count  Dtype  \n",
      "---  ------                             --------------  -----  \n",
      " 0   Age                                12000 non-null  int64  \n",
      " 1   Gender                             12000 non-null  object \n",
      " 2   Occupation                         12000 non-null  object \n",
      " 3   Sleep Hours                        12000 non-null  float64\n",
      " 4   Physical Activity (hrs/week)       12000 non-null  float64\n",
      " 5   Caffeine Intake (mg/day)           12000 non-null  int64  \n",
      " 6   Alcohol Consumption (drinks/week)  12000 non-null  int64  \n",
      " 7   Smoking                            12000 non-null  object \n",
      " 8   Family History of Anxiety          12000 non-null  object \n",
      " 9   Stress Level (1-10)                12000 non-null  int64  \n",
      " 10  Heart Rate (bpm during attack)     12000 non-null  int64  \n",
      " 11  Breathing Rate (breaths/min)       12000 non-null  int64  \n",
      " 12  Sweating Level (1-5)               12000 non-null  int64  \n",
      " 13  Dizziness                          12000 non-null  object \n",
      " 14  Medication                         12000 non-null  object \n",
      " 15  Therapy Sessions (per month)       12000 non-null  int64  \n",
      " 16  Recent Major Life Event            12000 non-null  object \n",
      " 17  Diet Quality (1-10)                12000 non-null  int64  \n",
      " 18  Severity of Anxiety Attack (1-10)  12000 non-null  int64  \n",
      "dtypes: float64(2), int64(10), object(7)\n",
      "memory usage: 1.7+ MB\n"
     ]
    }
   ],
   "source": [
    "#df.info() => 20 colonnes.\n",
    "try :\n",
    "    df.drop(columns='ID', inplace=True)\n",
    "except KeyError as message:\n",
    "    print('l\\'index a déjà été effacé')\n",
    "df.info()\n"
   ]
  },
  {
   "cell_type": "code",
   "execution_count": 29,
   "metadata": {},
   "outputs": [],
   "source": [
    "#Columns renaming\n",
    "new_col_names = {\n",
    "    'Gender'                            : 'gender',\n",
    "    'Occupation'                        : 'occupation',\n",
    "    'Sleep Hours'                       : 'sleep_hours',\n",
    "    'Physical Activity (hrs/week)'      : 'phyisical_activity',\n",
    "    'Caffeine Intake (mg/day)'          : 'caffeine_intake',\n",
    "    'Alcohol Consumption (drinks/week)' : 'alcohol_consuption',\n",
    "    'Smoking'                           : 'smoking',\n",
    "    'Family History of Anxiety'         : 'family_history',\n",
    "    'Stress Level (1-10)'               : 'stress_level',\n",
    "    'Heart Rate (bpm during attack)'    : 'hear_rate_during_attack',\n",
    "    'Breathing Rate (breaths/min)'      : 'breathing_rate',\n",
    "    'Sweating Level (1-5)'              : 'sweating_level',\n",
    "    'Dizziness'                         : 'dizziness',\n",
    "    'Medication'                        : 'medication',\n",
    "    'Therapy Sessions (per month)'      : 'therapy_session',\n",
    "    'Recent Major Life Event'           : 'recent_life_event',\n",
    "    'Diet Quality (1-10)'               : 'diet_quality',\n",
    "    'Severity of Anxiety Attack (1-10)' : 'attack_severity'\n",
    "}\n",
    "\n",
    "df = df.rename(columns=new_col_names)"
   ]
  },
  {
   "cell_type": "code",
   "execution_count": 30,
   "metadata": {},
   "outputs": [
    {
     "data": {
      "text/plain": [
       "gender\n",
       "Female    5809\n",
       "Male      5723\n",
       "Other      468\n",
       "Name: count, dtype: int64"
      ]
     },
     "execution_count": 30,
     "metadata": {},
     "output_type": "execute_result"
    }
   ],
   "source": [
    "genders = df['gender'].value_counts()\n",
    "genders"
   ]
  },
  {
   "cell_type": "code",
   "execution_count": 31,
   "metadata": {},
   "outputs": [],
   "source": [
    "df = pd.get_dummies(df, columns=['gender'])\n",
    "df = pd.get_dummies(df, columns=['occupation'])"
   ]
  },
  {
   "cell_type": "code",
   "execution_count": 32,
   "metadata": {},
   "outputs": [
    {
     "name": "stdout",
     "output_type": "stream",
     "text": [
      "<class 'pandas.core.frame.DataFrame'>\n",
      "RangeIndex: 12000 entries, 0 to 11999\n",
      "Data columns (total 26 columns):\n",
      " #   Column                   Non-Null Count  Dtype  \n",
      "---  ------                   --------------  -----  \n",
      " 0   Age                      12000 non-null  int64  \n",
      " 1   sleep_hours              12000 non-null  float64\n",
      " 2   phyisical_activity       12000 non-null  float64\n",
      " 3   caffeine_intake          12000 non-null  int64  \n",
      " 4   alcohol_consuption       12000 non-null  int64  \n",
      " 5   smoking                  12000 non-null  object \n",
      " 6   family_history           12000 non-null  object \n",
      " 7   stress_level             12000 non-null  int64  \n",
      " 8   hear_rate_during_attack  12000 non-null  int64  \n",
      " 9   breathing_rate           12000 non-null  int64  \n",
      " 10  sweating_level           12000 non-null  int64  \n",
      " 11  dizziness                12000 non-null  object \n",
      " 12  medication               12000 non-null  object \n",
      " 13  therapy_session          12000 non-null  int64  \n",
      " 14  recent_life_event        12000 non-null  object \n",
      " 15  diet_quality             12000 non-null  int64  \n",
      " 16  attack_severity          12000 non-null  int64  \n",
      " 17  gender_Female            12000 non-null  bool   \n",
      " 18  gender_Male              12000 non-null  bool   \n",
      " 19  gender_Other             12000 non-null  bool   \n",
      " 20  occupation_Doctor        12000 non-null  bool   \n",
      " 21  occupation_Engineer      12000 non-null  bool   \n",
      " 22  occupation_Other         12000 non-null  bool   \n",
      " 23  occupation_Student       12000 non-null  bool   \n",
      " 24  occupation_Teacher       12000 non-null  bool   \n",
      " 25  occupation_Unemployed    12000 non-null  bool   \n",
      "dtypes: bool(9), float64(2), int64(10), object(5)\n",
      "memory usage: 1.7+ MB\n"
     ]
    }
   ],
   "source": [
    "df.info()"
   ]
  },
  {
   "cell_type": "code",
   "execution_count": 37,
   "metadata": {},
   "outputs": [],
   "source": [
    "df.to_csv('./data/clean_data.csv')"
   ]
  },
  {
   "cell_type": "markdown",
   "metadata": {},
   "source": [
    "## Data Visualisation\n",
    "Ici, vous réaliserez vos observations, créerez vos graphes dans un premier temps. Une fois qu'ils seront fait, ils seront à intégrer à votre application Streamlit. Considérez donc cet espace comme un bac à sable avant de vous lancer dans le développement de l'application de Data Visualisation."
   ]
  },
  {
   "cell_type": "code",
   "execution_count": null,
   "metadata": {},
   "outputs": [],
   "source": [
    "# Ici, vous réaliserez la visualisation de votre jeu de données"
   ]
  }
 ],
 "metadata": {
  "kernelspec": {
   "display_name": "raffi_env",
   "language": "python",
   "name": "python3"
  },
  "language_info": {
   "codemirror_mode": {
    "name": "ipython",
    "version": 3
   },
   "file_extension": ".py",
   "mimetype": "text/x-python",
   "name": "python",
   "nbconvert_exporter": "python",
   "pygments_lexer": "ipython3",
   "version": "3.12.3"
  }
 },
 "nbformat": 4,
 "nbformat_minor": 2
}
