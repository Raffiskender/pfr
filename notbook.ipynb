{
 "cells": [
  {
   "cell_type": "code",
   "execution_count": 1,
   "metadata": {},
   "outputs": [],
   "source": [
    "import pandas as pd\n",
    "df = pd.read_csv('./src/assets/data/anxiety_attack_dataset.csv')"
   ]
  },
  {
   "cell_type": "code",
   "execution_count": 6,
   "metadata": {},
   "outputs": [
    {
     "name": "stdout",
     "output_type": "stream",
     "text": [
      "<class 'pandas.core.frame.DataFrame'>\n",
      "RangeIndex: 12000 entries, 0 to 11999\n",
      "Data columns (total 20 columns):\n",
      " #   Column                             Non-Null Count  Dtype  \n",
      "---  ------                             --------------  -----  \n",
      " 0   ID                                 12000 non-null  int64  \n",
      " 1   Age                                12000 non-null  int64  \n",
      " 2   Gender                             12000 non-null  object \n",
      " 3   Occupation                         12000 non-null  object \n",
      " 4   Sleep Hours                        12000 non-null  float64\n",
      " 5   Physical Activity (hrs/week)       12000 non-null  float64\n",
      " 6   Caffeine Intake (mg/day)           12000 non-null  int64  \n",
      " 7   Alcohol Consumption (drinks/week)  12000 non-null  int64  \n",
      " 8   Smoking                            12000 non-null  object \n",
      " 9   Family History of Anxiety          12000 non-null  object \n",
      " 10  Stress Level (1-10)                12000 non-null  int64  \n",
      " 11  Heart Rate (bpm during attack)     12000 non-null  int64  \n",
      " 12  Breathing Rate (breaths/min)       12000 non-null  int64  \n",
      " 13  Sweating Level (1-5)               12000 non-null  int64  \n",
      " 14  Dizziness                          12000 non-null  object \n",
      " 15  Medication                         12000 non-null  object \n",
      " 16  Therapy Sessions (per month)       12000 non-null  int64  \n",
      " 17  Recent Major Life Event            12000 non-null  object \n",
      " 18  Diet Quality (1-10)                12000 non-null  int64  \n",
      " 19  Severity of Anxiety Attack (1-10)  12000 non-null  int64  \n",
      "dtypes: float64(2), int64(11), object(7)\n",
      "memory usage: 1.8+ MB\n"
     ]
    }
   ],
   "source": [
    "# Présentation\n",
    "df.info()"
   ]
  },
  {
   "cell_type": "code",
   "execution_count": 4,
   "metadata": {},
   "outputs": [
    {
     "data": {
      "text/plain": [
       "ID                                   False\n",
       "Age                                  False\n",
       "Gender                               False\n",
       "Occupation                           False\n",
       "Sleep Hours                          False\n",
       "Physical Activity (hrs/week)         False\n",
       "Caffeine Intake (mg/day)             False\n",
       "Alcohol Consumption (drinks/week)    False\n",
       "Smoking                              False\n",
       "Family History of Anxiety            False\n",
       "Stress Level (1-10)                  False\n",
       "Heart Rate (bpm during attack)       False\n",
       "Breathing Rate (breaths/min)         False\n",
       "Sweating Level (1-5)                 False\n",
       "Dizziness                            False\n",
       "Medication                           False\n",
       "Therapy Sessions (per month)         False\n",
       "Recent Major Life Event              False\n",
       "Diet Quality (1-10)                  False\n",
       "Severity of Anxiety Attack (1-10)    False\n",
       "dtype: bool"
      ]
     },
     "execution_count": 4,
     "metadata": {},
     "output_type": "execute_result"
    }
   ],
   "source": [
    "# Vérification des données\n",
    "df.isna().any()"
   ]
  },
  {
   "cell_type": "code",
   "execution_count": null,
   "metadata": {},
   "outputs": [
    {
     "data": {
      "text/plain": [
       "(12000, 20)"
      ]
     },
     "execution_count": 8,
     "metadata": {},
     "output_type": "execute_result"
    }
   ],
   "source": [
    "df.shape # lignes / colonnes"
   ]
  },
  {
   "cell_type": "code",
   "execution_count": null,
   "metadata": {},
   "outputs": [
    {
     "data": {
      "text/html": [
       "<div>\n",
       "<style scoped>\n",
       "    .dataframe tbody tr th:only-of-type {\n",
       "        vertical-align: middle;\n",
       "    }\n",
       "\n",
       "    .dataframe tbody tr th {\n",
       "        vertical-align: top;\n",
       "    }\n",
       "\n",
       "    .dataframe thead th {\n",
       "        text-align: right;\n",
       "    }\n",
       "</style>\n",
       "<table border=\"1\" class=\"dataframe\">\n",
       "  <thead>\n",
       "    <tr style=\"text-align: right;\">\n",
       "      <th></th>\n",
       "      <th>ID</th>\n",
       "      <th>Age</th>\n",
       "      <th>Sleep Hours</th>\n",
       "      <th>Physical Activity (hrs/week)</th>\n",
       "      <th>Caffeine Intake (mg/day)</th>\n",
       "      <th>Alcohol Consumption (drinks/week)</th>\n",
       "      <th>Stress Level (1-10)</th>\n",
       "      <th>Heart Rate (bpm during attack)</th>\n",
       "      <th>Breathing Rate (breaths/min)</th>\n",
       "      <th>Sweating Level (1-5)</th>\n",
       "      <th>Therapy Sessions (per month)</th>\n",
       "      <th>Diet Quality (1-10)</th>\n",
       "      <th>Severity of Anxiety Attack (1-10)</th>\n",
       "    </tr>\n",
       "  </thead>\n",
       "  <tbody>\n",
       "    <tr>\n",
       "      <th>count</th>\n",
       "      <td>12000.00000</td>\n",
       "      <td>12000.00000</td>\n",
       "      <td>12000.000000</td>\n",
       "      <td>12000.000000</td>\n",
       "      <td>12000.000000</td>\n",
       "      <td>12000.000000</td>\n",
       "      <td>12000.000000</td>\n",
       "      <td>12000.000000</td>\n",
       "      <td>12000.000000</td>\n",
       "      <td>12000.000000</td>\n",
       "      <td>12000.000000</td>\n",
       "      <td>12000.000000</td>\n",
       "      <td>12000.000000</td>\n",
       "    </tr>\n",
       "    <tr>\n",
       "      <th>mean</th>\n",
       "      <td>6000.50000</td>\n",
       "      <td>40.96675</td>\n",
       "      <td>6.482650</td>\n",
       "      <td>5.030892</td>\n",
       "      <td>246.696083</td>\n",
       "      <td>9.492833</td>\n",
       "      <td>5.462250</td>\n",
       "      <td>119.398500</td>\n",
       "      <td>25.462333</td>\n",
       "      <td>2.987417</td>\n",
       "      <td>4.518417</td>\n",
       "      <td>5.497333</td>\n",
       "      <td>5.507583</td>\n",
       "    </tr>\n",
       "    <tr>\n",
       "      <th>std</th>\n",
       "      <td>3464.24595</td>\n",
       "      <td>13.47328</td>\n",
       "      <td>2.014885</td>\n",
       "      <td>2.889000</td>\n",
       "      <td>144.487071</td>\n",
       "      <td>5.769364</td>\n",
       "      <td>2.897201</td>\n",
       "      <td>34.806711</td>\n",
       "      <td>8.090686</td>\n",
       "      <td>1.414482</td>\n",
       "      <td>2.866010</td>\n",
       "      <td>2.867579</td>\n",
       "      <td>2.858663</td>\n",
       "    </tr>\n",
       "    <tr>\n",
       "      <th>min</th>\n",
       "      <td>1.00000</td>\n",
       "      <td>18.00000</td>\n",
       "      <td>3.000000</td>\n",
       "      <td>0.000000</td>\n",
       "      <td>0.000000</td>\n",
       "      <td>0.000000</td>\n",
       "      <td>1.000000</td>\n",
       "      <td>60.000000</td>\n",
       "      <td>12.000000</td>\n",
       "      <td>1.000000</td>\n",
       "      <td>0.000000</td>\n",
       "      <td>1.000000</td>\n",
       "      <td>1.000000</td>\n",
       "    </tr>\n",
       "    <tr>\n",
       "      <th>25%</th>\n",
       "      <td>3000.75000</td>\n",
       "      <td>29.00000</td>\n",
       "      <td>4.800000</td>\n",
       "      <td>2.500000</td>\n",
       "      <td>122.000000</td>\n",
       "      <td>5.000000</td>\n",
       "      <td>3.000000</td>\n",
       "      <td>89.000000</td>\n",
       "      <td>18.000000</td>\n",
       "      <td>2.000000</td>\n",
       "      <td>2.000000</td>\n",
       "      <td>3.000000</td>\n",
       "      <td>3.000000</td>\n",
       "    </tr>\n",
       "    <tr>\n",
       "      <th>50%</th>\n",
       "      <td>6000.50000</td>\n",
       "      <td>41.00000</td>\n",
       "      <td>6.500000</td>\n",
       "      <td>5.000000</td>\n",
       "      <td>244.000000</td>\n",
       "      <td>9.000000</td>\n",
       "      <td>5.000000</td>\n",
       "      <td>119.000000</td>\n",
       "      <td>25.000000</td>\n",
       "      <td>3.000000</td>\n",
       "      <td>5.000000</td>\n",
       "      <td>5.000000</td>\n",
       "      <td>6.000000</td>\n",
       "    </tr>\n",
       "    <tr>\n",
       "      <th>75%</th>\n",
       "      <td>9000.25000</td>\n",
       "      <td>53.00000</td>\n",
       "      <td>8.200000</td>\n",
       "      <td>7.525000</td>\n",
       "      <td>371.000000</td>\n",
       "      <td>15.000000</td>\n",
       "      <td>8.000000</td>\n",
       "      <td>149.000000</td>\n",
       "      <td>32.000000</td>\n",
       "      <td>4.000000</td>\n",
       "      <td>7.000000</td>\n",
       "      <td>8.000000</td>\n",
       "      <td>8.000000</td>\n",
       "    </tr>\n",
       "    <tr>\n",
       "      <th>max</th>\n",
       "      <td>12000.00000</td>\n",
       "      <td>64.00000</td>\n",
       "      <td>10.000000</td>\n",
       "      <td>10.000000</td>\n",
       "      <td>499.000000</td>\n",
       "      <td>19.000000</td>\n",
       "      <td>10.000000</td>\n",
       "      <td>179.000000</td>\n",
       "      <td>39.000000</td>\n",
       "      <td>5.000000</td>\n",
       "      <td>9.000000</td>\n",
       "      <td>10.000000</td>\n",
       "      <td>10.000000</td>\n",
       "    </tr>\n",
       "  </tbody>\n",
       "</table>\n",
       "</div>"
      ],
      "text/plain": [
       "                ID          Age   Sleep Hours  Physical Activity (hrs/week)  \\\n",
       "count  12000.00000  12000.00000  12000.000000                  12000.000000   \n",
       "mean    6000.50000     40.96675      6.482650                      5.030892   \n",
       "std     3464.24595     13.47328      2.014885                      2.889000   \n",
       "min        1.00000     18.00000      3.000000                      0.000000   \n",
       "25%     3000.75000     29.00000      4.800000                      2.500000   \n",
       "50%     6000.50000     41.00000      6.500000                      5.000000   \n",
       "75%     9000.25000     53.00000      8.200000                      7.525000   \n",
       "max    12000.00000     64.00000     10.000000                     10.000000   \n",
       "\n",
       "       Caffeine Intake (mg/day)  Alcohol Consumption (drinks/week)  \\\n",
       "count              12000.000000                       12000.000000   \n",
       "mean                 246.696083                           9.492833   \n",
       "std                  144.487071                           5.769364   \n",
       "min                    0.000000                           0.000000   \n",
       "25%                  122.000000                           5.000000   \n",
       "50%                  244.000000                           9.000000   \n",
       "75%                  371.000000                          15.000000   \n",
       "max                  499.000000                          19.000000   \n",
       "\n",
       "       Stress Level (1-10)  Heart Rate (bpm during attack)  \\\n",
       "count         12000.000000                    12000.000000   \n",
       "mean              5.462250                      119.398500   \n",
       "std               2.897201                       34.806711   \n",
       "min               1.000000                       60.000000   \n",
       "25%               3.000000                       89.000000   \n",
       "50%               5.000000                      119.000000   \n",
       "75%               8.000000                      149.000000   \n",
       "max              10.000000                      179.000000   \n",
       "\n",
       "       Breathing Rate (breaths/min)  Sweating Level (1-5)  \\\n",
       "count                  12000.000000          12000.000000   \n",
       "mean                      25.462333              2.987417   \n",
       "std                        8.090686              1.414482   \n",
       "min                       12.000000              1.000000   \n",
       "25%                       18.000000              2.000000   \n",
       "50%                       25.000000              3.000000   \n",
       "75%                       32.000000              4.000000   \n",
       "max                       39.000000              5.000000   \n",
       "\n",
       "       Therapy Sessions (per month)  Diet Quality (1-10)  \\\n",
       "count                  12000.000000         12000.000000   \n",
       "mean                       4.518417             5.497333   \n",
       "std                        2.866010             2.867579   \n",
       "min                        0.000000             1.000000   \n",
       "25%                        2.000000             3.000000   \n",
       "50%                        5.000000             5.000000   \n",
       "75%                        7.000000             8.000000   \n",
       "max                        9.000000            10.000000   \n",
       "\n",
       "       Severity of Anxiety Attack (1-10)  \n",
       "count                       12000.000000  \n",
       "mean                            5.507583  \n",
       "std                             2.858663  \n",
       "min                             1.000000  \n",
       "25%                             3.000000  \n",
       "50%                             6.000000  \n",
       "75%                             8.000000  \n",
       "max                            10.000000  "
      ]
     },
     "execution_count": 9,
     "metadata": {},
     "output_type": "execute_result"
    }
   ],
   "source": [
    "# Description des données\n",
    "df.describe()"
   ]
  },
  {
   "cell_type": "code",
   "execution_count": 2,
   "metadata": {},
   "outputs": [],
   "source": [
    "def annotate_axes(ax, text, fontsize=18):\n",
    "    ax.text(0.5, 0.5, text, transform=ax.transAxes,\n",
    "            ha=\"center\", va=\"center\", fontsize=fontsize, color=\"darkgrey\")\n"
   ]
  },
  {
   "cell_type": "code",
   "execution_count": 29,
   "metadata": {},
   "outputs": [
    {
     "data": {
      "text/plain": [
       "Text(0.5, 0.98, 'Manual gridspec with right=0.75')"
      ]
     },
     "execution_count": 29,
     "metadata": {},
     "output_type": "execute_result"
    },
    {
     "data": {
      "image/png": "[encoded data removed]",
      "text/plain": [
       "<Figure size 1500x800 with 4 Axes>"
      ]
     },
     "metadata": {},
     "output_type": "display_data"
    }
   ],
   "source": [
    "import matplotlib.pyplot as plt\n",
    "\n",
    "fig = plt.figure(figsize=(15,8))\n",
    "gs = fig.add_gridspec(nrows=4, ncols=6, left=0.05, right=0.95, hspace=0.1, wspace=0.1)\n",
    "\n",
    "ax0 = fig.add_subplot(gs[0, 0:2])\n",
    "annotate_axes(ax0, 'ax0')\n",
    "ax1 = fig.add_subplot(gs[0, 2:6])\n",
    "annotate_axes(ax1, 'ax1')\n",
    "ax2 = fig.add_subplot(gs[1, 0:3])\n",
    "annotate_axes(ax2, 'ax2')\n",
    "ax3 = fig.add_subplot(gs[1, 3:6])\n",
    "annotate_axes(ax3, 'ax3')\n",
    "fig.suptitle('Manual gridspec with right=0.75')"
   ]
  },
  {
   "cell_type": "code",
   "execution_count": null,
   "metadata": {},
   "outputs": [],
   "source": []
  }
 ],
 "metadata": {
  "kernelspec": {
   "display_name": "raffi_env",
   "language": "python",
   "name": "python3"
  },
  "language_info": {
   "codemirror_mode": {
    "name": "ipython",
    "version": 3
   },
   "file_extension": ".py",
   "mimetype": "text/x-python",
   "name": "python",
   "nbconvert_exporter": "python",
   "pygments_lexer": "ipython3",
   "version": "3.12.3"
  }
 },
 "nbformat": 4,
 "nbformat_minor": 2
}
